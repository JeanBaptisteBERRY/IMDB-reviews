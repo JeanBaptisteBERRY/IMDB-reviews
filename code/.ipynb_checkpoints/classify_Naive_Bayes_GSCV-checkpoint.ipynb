{
 "metadata": {
  "name": "",
  "signature": "sha256:cb018ccac5744b8b4906478134dc0768d5fe0eb0a9eea1705d9d5a0214eadd3e"
 },
 "nbformat": 3,
 "nbformat_minor": 0,
 "worksheets": [
  {
   "cells": [
    {
     "cell_type": "code",
     "collapsed": false,
     "input": [
      "%load_ext watermark\n",
      "\n",
      "%watermark -a 'Vahid Mirjalili' -d -p scikit-learn,numpy,numexpr,pandas,matplotlib,plotly -v"
     ],
     "language": "python",
     "metadata": {},
     "outputs": [
      {
       "output_type": "stream",
       "stream": "stdout",
       "text": [
        "Vahid Mirjalili 28/12/2014 \n",
        "\n",
        "CPython 2.7.3\n",
        "IPython 2.3.1\n",
        "\n",
        "scikit-learn 0.15.2\n",
        "numpy 1.9.1\n",
        "numexpr 2.2.2\n",
        "pandas 0.15.1\n",
        "matplotlib 1.4.2\n",
        "plotly 1.4.7\n"
       ]
      }
     ],
     "prompt_number": 1
    },
    {
     "cell_type": "code",
     "collapsed": false,
     "input": [
      "from matplotlib import pyplot as plt\n",
      "\n",
      "import pandas as pd\n",
      "import numpy as np\n",
      "import scipy\n",
      "import sklearn\n",
      "\n",
      "%matplotlib inline"
     ],
     "language": "python",
     "metadata": {},
     "outputs": [
      {
       "output_type": "stream",
       "stream": "stderr",
       "text": [
        "/usr/local/lib/python2.7/dist-packages/PIL/Image.py:71: RuntimeWarning: The _imaging extension was built for another  version of Pillow or PIL\n",
        "  warnings.warn(str(v), RuntimeWarning)\n",
        "/usr/local/lib/python2.7/dist-packages/PIL/Image.py:71: RuntimeWarning: The _imaging extension was built for another  version of Pillow or PIL\n",
        "  warnings.warn(str(v), RuntimeWarning)\n"
       ]
      }
     ],
     "prompt_number": 2
    },
    {
     "cell_type": "markdown",
     "metadata": {},
     "source": [
      "## 1. Read the training and test dataset"
     ]
    },
    {
     "cell_type": "code",
     "collapsed": false,
     "input": [
      "df = pd.read_table('../data/labeledTrainData.tsv')\n",
      "\n",
      "df.head()"
     ],
     "language": "python",
     "metadata": {},
     "outputs": [
      {
       "html": [
        "<div style=\"max-height:1000px;max-width:1500px;overflow:auto;\">\n",
        "<table border=\"1\" class=\"dataframe\">\n",
        "  <thead>\n",
        "    <tr style=\"text-align: right;\">\n",
        "      <th></th>\n",
        "      <th>id</th>\n",
        "      <th>sentiment</th>\n",
        "      <th>review</th>\n",
        "    </tr>\n",
        "  </thead>\n",
        "  <tbody>\n",
        "    <tr>\n",
        "      <th>0</th>\n",
        "      <td> 5814_8</td>\n",
        "      <td> 1</td>\n",
        "      <td> With all this stuff going down at the moment w...</td>\n",
        "    </tr>\n",
        "    <tr>\n",
        "      <th>1</th>\n",
        "      <td> 2381_9</td>\n",
        "      <td> 1</td>\n",
        "      <td> \\The Classic War of the Worlds\\\" by Timothy Hi...</td>\n",
        "    </tr>\n",
        "    <tr>\n",
        "      <th>2</th>\n",
        "      <td> 7759_3</td>\n",
        "      <td> 0</td>\n",
        "      <td> The film starts with a manager (Nicholas Bell)...</td>\n",
        "    </tr>\n",
        "    <tr>\n",
        "      <th>3</th>\n",
        "      <td> 3630_4</td>\n",
        "      <td> 0</td>\n",
        "      <td> It must be assumed that those who praised this...</td>\n",
        "    </tr>\n",
        "    <tr>\n",
        "      <th>4</th>\n",
        "      <td> 9495_8</td>\n",
        "      <td> 1</td>\n",
        "      <td> Superbly trashy and wondrously unpretentious 8...</td>\n",
        "    </tr>\n",
        "  </tbody>\n",
        "</table>\n",
        "</div>"
       ],
       "metadata": {},
       "output_type": "pyout",
       "prompt_number": 3,
       "text": [
        "       id  sentiment                                             review\n",
        "0  5814_8          1  With all this stuff going down at the moment w...\n",
        "1  2381_9          1  \\The Classic War of the Worlds\\\" by Timothy Hi...\n",
        "2  7759_3          0  The film starts with a manager (Nicholas Bell)...\n",
        "3  3630_4          0  It must be assumed that those who praised this...\n",
        "4  9495_8          1  Superbly trashy and wondrously unpretentious 8..."
       ]
      }
     ],
     "prompt_number": 3
    },
    {
     "cell_type": "code",
     "collapsed": false,
     "input": [
      "df_test = pd.read_table('../data/testData.tsv')\n",
      "\n",
      "df_test.head()"
     ],
     "language": "python",
     "metadata": {},
     "outputs": [
      {
       "html": [
        "<div style=\"max-height:1000px;max-width:1500px;overflow:auto;\">\n",
        "<table border=\"1\" class=\"dataframe\">\n",
        "  <thead>\n",
        "    <tr style=\"text-align: right;\">\n",
        "      <th></th>\n",
        "      <th>id</th>\n",
        "      <th>review</th>\n",
        "    </tr>\n",
        "  </thead>\n",
        "  <tbody>\n",
        "    <tr>\n",
        "      <th>0</th>\n",
        "      <td> 12311_10</td>\n",
        "      <td> Naturally in a film who's main themes are of m...</td>\n",
        "    </tr>\n",
        "    <tr>\n",
        "      <th>1</th>\n",
        "      <td>   8348_2</td>\n",
        "      <td> This movie is a disaster within a disaster fil...</td>\n",
        "    </tr>\n",
        "    <tr>\n",
        "      <th>2</th>\n",
        "      <td>   5828_4</td>\n",
        "      <td> All in all, this is a movie for kids. We saw i...</td>\n",
        "    </tr>\n",
        "    <tr>\n",
        "      <th>3</th>\n",
        "      <td>   7186_2</td>\n",
        "      <td> Afraid of the Dark left me with the impression...</td>\n",
        "    </tr>\n",
        "    <tr>\n",
        "      <th>4</th>\n",
        "      <td>  12128_7</td>\n",
        "      <td> A very accurate depiction of small time mob li...</td>\n",
        "    </tr>\n",
        "  </tbody>\n",
        "</table>\n",
        "</div>"
       ],
       "metadata": {},
       "output_type": "pyout",
       "prompt_number": 4,
       "text": [
        "         id                                             review\n",
        "0  12311_10  Naturally in a film who's main themes are of m...\n",
        "1    8348_2  This movie is a disaster within a disaster fil...\n",
        "2    5828_4  All in all, this is a movie for kids. We saw i...\n",
        "3    7186_2  Afraid of the Dark left me with the impression...\n",
        "4   12128_7  A very accurate depiction of small time mob li..."
       ]
      }
     ],
     "prompt_number": 4
    },
    {
     "cell_type": "markdown",
     "metadata": {},
     "source": [
      "### 1.1 Extracting X & y data columns"
     ]
    },
    {
     "cell_type": "code",
     "collapsed": false,
     "input": [
      "data_train = df.loc[:, 'review']\n",
      "\n",
      "y_train = df.loc[:, 'sentiment']\n",
      "\n",
      "data_train.head()"
     ],
     "language": "python",
     "metadata": {},
     "outputs": [
      {
       "metadata": {},
       "output_type": "pyout",
       "prompt_number": 5,
       "text": [
        "0    With all this stuff going down at the moment w...\n",
        "1    \\The Classic War of the Worlds\\\" by Timothy Hi...\n",
        "2    The film starts with a manager (Nicholas Bell)...\n",
        "3    It must be assumed that those who praised this...\n",
        "4    Superbly trashy and wondrously unpretentious 8...\n",
        "Name: review, dtype: object"
       ]
      }
     ],
     "prompt_number": 5
    },
    {
     "cell_type": "code",
     "collapsed": false,
     "input": [
      "data_test = df_test.loc[:, 'review']\n",
      "\n",
      "data_test.tail()"
     ],
     "language": "python",
     "metadata": {},
     "outputs": [
      {
       "metadata": {},
       "output_type": "pyout",
       "prompt_number": 6,
       "text": [
        "24995    Sony Pictures Classics, I'm looking at you! So...\n",
        "24996    I always felt that Ms. Merkerson had never got...\n",
        "24997    I was so disappointed in this movie. I am very...\n",
        "24998    From the opening sequence, filled with black a...\n",
        "24999    This is a great horror film for people who don...\n",
        "Name: review, dtype: object"
       ]
      }
     ],
     "prompt_number": 6
    },
    {
     "cell_type": "markdown",
     "metadata": {},
     "source": [
      "## 2. Text Feature Extraction"
     ]
    },
    {
     "cell_type": "code",
     "collapsed": false,
     "input": [
      "import nltk\n",
      "import string\n",
      "import re\n",
      "from collections import Counter\n",
      "\n",
      "from nltk.corpus import stopwords"
     ],
     "language": "python",
     "metadata": {},
     "outputs": [
      {
       "output_type": "stream",
       "stream": "stderr",
       "text": [
        "/usr/local/lib/python2.7/dist-packages/PIL/Image.py:71: RuntimeWarning: The _imaging extension was built for another  version of Pillow or PIL\n",
        "  warnings.warn(str(v), RuntimeWarning)\n",
        "/usr/local/lib/python2.7/dist-packages/PIL/Image.py:71: RuntimeWarning: The _imaging extension was built for another  version of Pillow or PIL\n",
        "  warnings.warn(str(v), RuntimeWarning)\n"
       ]
      }
     ],
     "prompt_number": 7
    },
    {
     "cell_type": "markdown",
     "metadata": {},
     "source": [
      "### 2.1 Tokenizer Function"
     ]
    },
    {
     "cell_type": "markdown",
     "metadata": {},
     "source": [
      " **Transform to lower-case**  \n",
      " **Remove the punctuations**  \n",
      " **Remove the stopwrods**  \n",
      " **Tokenize the remaining string**  "
     ]
    },
    {
     "cell_type": "code",
     "collapsed": false,
     "input": [
      "## For more info, see http://www.cs.duke.edu/courses/spring14/compsci290/assignments/lab02.html\n",
      "\n",
      "stemmer = nltk.stem.porter.PorterStemmer()\n",
      "\n",
      "def get_tokens(inp_txt):\n",
      "    \n",
      "    ## Lower case: ABC -> abc\n",
      "    txt_lower = inp_txt.lower()\n",
      "  \n",
      "    ## Remove punctuations (!, ', \", ., :, ;, )\n",
      "    #txt_lower_nopunct = txt_lower.translate(string.maketrans(\"\",\"\"), string.punctuation)\n",
      "    #print(txt_lower_nopunct)\n",
      "    \n",
      "    \n",
      "    ## Tokenize:\n",
      "    tokens = nltk.word_tokenize(txt_lower) #_nopunct)\n",
      "    #tokens = nltk.wordpunct_tokenize(txt_lower)\n",
      "    \n",
      "    ## remove stop-words:\n",
      "    tokens_filtered = [w for w in tokens if not w in stopwords.words('english')]\n",
      "    \n",
      "    ## stemming:\n",
      "    stems = [stemmer.stem(t) for t in tokens_filtered]\n",
      "    stems_nopunct = [s for s in stems if re.match('^[a-zA-Z]+$', s) is not None]\n",
      "    return (stems_nopunct)"
     ],
     "language": "python",
     "metadata": {},
     "outputs": [],
     "prompt_number": 8
    },
    {
     "cell_type": "markdown",
     "metadata": {},
     "source": [
      "#### Unit test for tokenizer:"
     ]
    },
    {
     "cell_type": "code",
     "collapsed": false,
     "input": [
      "get_tokens(\"What's in a name? That which we call a rose by any other name would smell as sweet.\")\n",
      "\n",
      "## Note: you need to download punkt package in nltk:\n",
      "# import nltk\n",
      "# nltk.download(punkt)"
     ],
     "language": "python",
     "metadata": {},
     "outputs": [
      {
       "metadata": {},
       "output_type": "pyout",
       "prompt_number": 9,
       "text": [
        "[u'name', u'call', u'rose', u'name', u'would', u'smell', u'sweet']"
       ]
      }
     ],
     "prompt_number": 9
    },
    {
     "cell_type": "markdown",
     "metadata": {},
     "source": [
      "### 2.2 TF-IDF Feature Extraction"
     ]
    },
    {
     "cell_type": "code",
     "collapsed": false,
     "input": [
      "tfidf = sklearn.feature_extraction.text.TfidfVectorizer(\n",
      "    encoding = 'utf-8',\n",
      "    decode_error = 'replace',\n",
      "    strip_accents = 'ascii',\n",
      "    analyzer = 'word',\n",
      "    smooth_idf = True,\n",
      "    tokenizer = get_tokens\n",
      ")\n",
      "\n",
      "tfidf"
     ],
     "language": "python",
     "metadata": {},
     "outputs": [
      {
       "metadata": {},
       "output_type": "pyout",
       "prompt_number": 10,
       "text": [
        "TfidfVectorizer(analyzer='word', binary=False, charset=None,\n",
        "        charset_error=None, decode_error='replace',\n",
        "        dtype=<type 'numpy.int64'>, encoding='utf-8', input=u'content',\n",
        "        lowercase=True, max_df=1.0, max_features=None, min_df=1,\n",
        "        ngram_range=(1, 1), norm=u'l2', preprocessor=None, smooth_idf=True,\n",
        "        stop_words=None, strip_accents='ascii', sublinear_tf=False,\n",
        "        token_pattern=u'(?u)\\\\b\\\\w\\\\w+\\\\b',\n",
        "        tokenizer=<function get_tokens at 0xa18bed8>, use_idf=True,\n",
        "        vocabulary=None)"
       ]
      }
     ],
     "prompt_number": 10
    },
    {
     "cell_type": "markdown",
     "metadata": {},
     "source": [
      "#### Unit test for TF-IDF:"
     ]
    },
    {
     "cell_type": "code",
     "collapsed": false,
     "input": [
      "## Shakespear quote\n",
      "example_txt_1 = \"What's in a name? That which we call a rose by any other name would smell as sweet.\"\n",
      "example_txt_2 = \"To be, or not to be: that is the question.\"\n",
      "\n",
      "tfidf = tfidf.fit([example_txt_1 + example_txt_2])\n",
      "\n",
      "example1 = tfidf.transform([example_txt_1])\n",
      "example2 = tfidf.transform([example_txt_2])\n",
      "\n",
      "print('Features: %s' %tfidf.get_feature_names())\n",
      "print('Example1: %s' %example1.toarray())\n",
      "print('Example2: %s' %example2.toarray())"
     ],
     "language": "python",
     "metadata": {},
     "outputs": [
      {
       "output_type": "stream",
       "stream": "stdout",
       "text": [
        "Features: [u'call', u'name', u'question', u'rose', u'smell', u'would']\n",
        "Example1: [[ 0.35355339  0.70710678  0.          0.35355339  0.35355339  0.35355339]]\n",
        "Example2: [[ 0.  0.  1.  0.  0.  0.]]\n"
       ]
      }
     ],
     "prompt_number": 11
    },
    {
     "cell_type": "markdown",
     "metadata": {},
     "source": [
      "### 2.3 Evaluate TF-IDF on the reviews"
     ]
    },
    {
     "cell_type": "markdown",
     "metadata": {},
     "source": []
    },
    {
     "cell_type": "code",
     "collapsed": false,
     "input": [
      "### Vectorizing the training set:\n",
      "from sklearn.feature_extraction.text import TfidfVectorizer\n",
      "\n",
      "vectorizer = TfidfVectorizer(sublinear_tf=True, max_df=0.5,\n",
      "                             stop_words='english')\n",
      "X_train = vectorizer.fit_transform(data_train)\n",
      "\n",
      "print(\"Number of samples N= %d,  Number of features d= %d\" % X_train.shape)\n",
      "\n",
      "\n",
      "### Transforming the test dataset:\n",
      "X_test = vectorizer.transform(data_test)\n",
      "\n",
      "print(\"Number of Test Documents: %d,  Number of features: %d\" %X_test.shape)"
     ],
     "language": "python",
     "metadata": {},
     "outputs": [
      {
       "output_type": "stream",
       "stream": "stdout",
       "text": [
        "Number of samples N= 25000,  Number of features d= 74536\n",
        "Number of Test Documents: 25000,  Number of features: 74536"
       ]
      },
      {
       "output_type": "stream",
       "stream": "stdout",
       "text": [
        "\n"
       ]
      }
     ],
     "prompt_number": 13
    },
    {
     "cell_type": "markdown",
     "metadata": {},
     "source": [
      "## 3. Hyper-parameter Optimization using KFold Cross Validation"
     ]
    },
    {
     "cell_type": "code",
     "collapsed": false,
     "input": [
      "from sklearn import pipeline\n",
      "from sklearn import metrics\n",
      "from sklearn import grid_search\n",
      "from sklearn import cross_validation\n",
      "from sklearn.naive_bayes import MultinomialNB\n",
      "\n",
      "import datetime\n",
      "import gc # python's garbage collector"
     ],
     "language": "python",
     "metadata": {},
     "outputs": [],
     "prompt_number": 12
    },
    {
     "cell_type": "markdown",
     "metadata": {},
     "source": [
      "### Optimizaing the Additive Smoothing Paramater $\\alpha$\n",
      "\n",
      "\n",
      "The class conditional probability is given by\n",
      "\n",
      "$$P(x_i | C) = \\frac{count(x_i, C) + \\alpha}{count(x_i) + \\alpha |V|}$$\n",
      "\n",
      "where  \n",
      "  * $count(x_i, C)$: count of observing words $x_i$ in class $C$\n",
      "  * $count(x_i)$ : count of words $x_i$ in all classes\n",
      "  * $\\alpha$: smoothing parameter\n",
      "  * $|V|$: the size of distinct words set"
     ]
    },
    {
     "cell_type": "code",
     "collapsed": false,
     "input": [
      "tfidf = sklearn.feature_extraction.text.TfidfVectorizer(\n",
      "    encoding = 'utf-8',\n",
      "    decode_error = 'replace',\n",
      "    strip_accents = 'ascii',\n",
      "    analyzer = 'word',\n",
      "    smooth_idf = True,\n",
      "    max_df = 0.5,\n",
      "    sublinear_tf=True,\n",
      "    tokenizer = get_tokens\n",
      ")\n",
      "\n",
      "gc.collect()\n",
      "\n",
      "alpha_params = [] #[0.01, 0.02, 0.05, 0.1, 0.2, 0.5, 1.0, 2.0, 5.0, 10.0]\n",
      "#alpha_params = [0.01, 0.02]\n",
      "colors = [\"red\", \"green\", \"blue\", \"gray\", \"#656522\", \"#12FF14\", \"#B0B0B0\", \"#AA0505\", \"#0145FF\", \"#670566\"]\n",
      "#pointtypes = ['o', '^']\n",
      "linestyles = ['-', '--', '-.', ':', '-', '--', '-.', ':', '--', '-.']\n",
      "\n",
      "fig_roc = plt.figure(1, figsize=(10, 8))\n",
      "ax_roc = fig_roc.add_subplot(1, 1, 1)\n",
      "\n",
      "for param,col,ls in zip(alpha_params, colors, linestyles):\n",
      "    \n",
      "    clf_pipe = pipeline.Pipeline([\n",
      "        ('vect', tfidf),\n",
      "        ('clf', MultinomialNB(alpha=param))\n",
      "    ])\n",
      "\n",
      "    cv = cross_validation.StratifiedKFold(y_train, n_folds=5)\n",
      "    \n",
      "    auc_res = 0\n",
      "    xr = np.linspace(0, 1, 100)\n",
      "    tpr_interp = np.zeros(shape=xr.shape, dtype=float)\n",
      "    \n",
      "    for i, (train_inx, test_inx) in enumerate(cv):\n",
      "        model = clf_pipe.fit(data_train[train_inx], y_train[train_inx])\n",
      "        pred = model.predict_proba(data_train[test_inx])\n",
      "        \n",
      "        fpr, tpr, thresh = metrics.roc_curve(y_train[test_inx], pred[:, 1])\n",
      "        auc_res += metrics.auc(fpr, tpr)\n",
      "        \n",
      "        tpr_interp += scipy.interp(xr, fpr, tpr)\n",
      "\n",
      "    current_time = datetime.datetime.now().time().isoformat()\n",
      "    print(\"Alpha = %.2f   ---->   AUC = %.4f     (%s)\" %(param, auc_res/len(cv), current_time))\n",
      "    \n",
      "    tpr_interp /= len(cv)\n",
      "    line_new = plt.plot(xr, tpr_interp)\n",
      "    plt.setp(line_new, color=col, linewidth=3, linestyle=ls)\n",
      "    \n",
      "\n",
      "plt.plot([0, 1], [0, 1], '--', lw=4, color='gray')\n",
      "\n",
      "plt.setp(ax_roc.get_xticklabels(), rotation='horizontal', fontsize=16)\n",
      "plt.setp(ax_roc.get_yticklabels(), rotation='vertical', fontsize=16)\n",
      "plt.axis([-0.05, 1.05, -0.05, 1.05])\n",
      "plt.xlabel('False Positive Rate', size=20)\n",
      "plt.ylabel('True Positive Rate', size=20)\n",
      "plt.title('Multinomial NB Classification using TF-IDF Features', size=20)\n",
      "plt.legend(alpha_params, loc='lower right', fontsize=20)\n",
      "plt.show()"
     ],
     "language": "python",
     "metadata": {},
     "outputs": [
      {
       "output_type": "stream",
       "stream": "stdout",
       "text": [
        "Alpha = 0.01   ---->   AUC = 0.9180     (00:06:27.493367)\n",
        "Alpha = 0.02   ---->   AUC = 0.9223     (01:51:09.611895)"
       ]
      },
      {
       "output_type": "stream",
       "stream": "stdout",
       "text": [
        "\n",
        "Alpha = 0.05   ---->   AUC = 0.9270     (03:25:57.325411)"
       ]
      },
      {
       "output_type": "stream",
       "stream": "stdout",
       "text": [
        "\n",
        "Alpha = 0.10   ---->   AUC = 0.9298     (05:00:46.055790)"
       ]
      },
      {
       "output_type": "stream",
       "stream": "stdout",
       "text": [
        "\n",
        "Alpha = 0.20   ---->   AUC = 0.9319     (06:35:36.087543)"
       ]
      },
      {
       "output_type": "stream",
       "stream": "stdout",
       "text": [
        "\n",
        "Alpha = 0.50   ---->   AUC = 0.9337     (08:10:33.168714)"
       ]
      },
      {
       "output_type": "stream",
       "stream": "stdout",
       "text": [
        "\n",
        "Alpha = 1.00   ---->   AUC = 0.9343     (09:45:23.516907)"
       ]
      },
      {
       "output_type": "stream",
       "stream": "stdout",
       "text": [
        "\n",
        "Alpha = 2.00   ---->   AUC = 0.9345     (11:21:18.424894)"
       ]
      },
      {
       "output_type": "stream",
       "stream": "stdout",
       "text": [
        "\n"
       ]
      },
      {
       "metadata": {},
       "output_type": "display_data",
       "png": "[encoded data removed]",
       "text": [
        "<matplotlib.figure.Figure at 0xbe4b450>"
       ]
      }
     ],
     "prompt_number": 44
    },
    {
     "cell_type": "markdown",
     "metadata": {},
     "source": [
      "## Apply Final Classification Model to Predict Classes in Test Set\n",
      "\n",
      "\n",
      "\n",
      "Based on our hyper parameter optimization, we realize that using $\\alpha = 2.0$ gives the optimal AUC (area under the curve of receiver operating characteristic). So, in our final classification model we use the following:\n",
      "\n",
      "  * TF-IDF features\n",
      "  * Multinomal naive Bayes with smoothing paramater $\\alpha = 2.0$"
     ]
    },
    {
     "cell_type": "code",
     "collapsed": false,
     "input": [
      "tfvec = sklearn.feature_extraction.text.TfidfVectorizer(\n",
      "    encoding = 'utf-8',\n",
      "    decode_error = 'replace',\n",
      "    strip_accents = 'ascii',\n",
      "    analyzer = 'word',\n",
      "    smooth_idf = True,\n",
      "    max_df = 0.5,\n",
      "    sublinear_tf=True,\n",
      "    tokenizer = get_tokens\n",
      ")\n",
      "\n",
      "clf_pipe = pipeline.Pipeline([\n",
      "    ('vect', tfvec),\n",
      "    ('clf', MultinomialNB(alpha=0.5))\n",
      "])\n",
      "\n",
      "final_model = clf_pipe.fit(data_train, y_train)\n",
      "#pred_multNB = final_model.predict_proba(data_test)\n",
      "\n",
      "pred_multNB = final_model.predict_proba(data_test)[:,1]\n",
      "\n",
      "output = pd.DataFrame( data={\"id\":df_test[\"id\"], \"sentiment\":pred_multNB} )\n",
      "# Use pandas to write the comma-separated output file\n",
      "output.to_csv(os.path.join('../results', 'pred.proba.multNB.alpha_0.5.csv'), index=False, quoting=3)\n",
      "print (\"Wrote results to results/pred.proba.multNB.alpha_0.5.csv\")\n",
      "\n",
      "\n",
      "#pred_multNB = np.vstack((df_test.loc[:, 'id'], pred_multNB)).T\n",
      "#print(pred_multNB.shape)\n",
      "#np.savetxt('../results/pred.multinomialNB.alpha_optimized.csv', pred_multNB, fmt='%s,%1d', delimiter=',', header='id,sentiment')"
     ],
     "language": "python",
     "metadata": {},
     "outputs": [
      {
       "ename": "NameError",
       "evalue": "name '__file__' is not defined",
       "output_type": "pyerr",
       "traceback": [
        "\u001b[1;31m---------------------------------------------------------------------------\u001b[0m\n\u001b[1;31mNameError\u001b[0m                                 Traceback (most recent call last)",
        "\u001b[1;32m<ipython-input-13-e0d4a513899c>\u001b[0m in \u001b[0;36m<module>\u001b[1;34m()\u001b[0m\n\u001b[0;32m     24\u001b[0m \u001b[0moutput\u001b[0m \u001b[1;33m=\u001b[0m \u001b[0mpd\u001b[0m\u001b[1;33m.\u001b[0m\u001b[0mDataFrame\u001b[0m\u001b[1;33m(\u001b[0m \u001b[0mdata\u001b[0m\u001b[1;33m=\u001b[0m\u001b[1;33m{\u001b[0m\u001b[1;34m\"id\"\u001b[0m\u001b[1;33m:\u001b[0m\u001b[0mdf_test\u001b[0m\u001b[1;33m[\u001b[0m\u001b[1;34m\"id\"\u001b[0m\u001b[1;33m]\u001b[0m\u001b[1;33m,\u001b[0m \u001b[1;34m\"sentiment\"\u001b[0m\u001b[1;33m:\u001b[0m\u001b[0mpred_multNB\u001b[0m\u001b[1;33m}\u001b[0m \u001b[1;33m)\u001b[0m\u001b[1;33m\u001b[0m\u001b[0m\n\u001b[0;32m     25\u001b[0m \u001b[1;31m# Use pandas to write the comma-separated output file\u001b[0m\u001b[1;33m\u001b[0m\u001b[1;33m\u001b[0m\u001b[0m\n\u001b[1;32m---> 26\u001b[1;33m \u001b[0moutput\u001b[0m\u001b[1;33m.\u001b[0m\u001b[0mto_csv\u001b[0m\u001b[1;33m(\u001b[0m\u001b[0mos\u001b[0m\u001b[1;33m.\u001b[0m\u001b[0mpath\u001b[0m\u001b[1;33m.\u001b[0m\u001b[0mjoin\u001b[0m\u001b[1;33m(\u001b[0m\u001b[0mos\u001b[0m\u001b[1;33m.\u001b[0m\u001b[0mpath\u001b[0m\u001b[1;33m.\u001b[0m\u001b[0mdirname\u001b[0m\u001b[1;33m(\u001b[0m\u001b[0m__file__\u001b[0m\u001b[1;33m)\u001b[0m\u001b[1;33m,\u001b[0m \u001b[1;34m'results'\u001b[0m\u001b[1;33m,\u001b[0m \u001b[1;34m'pred.proba.multNB.alpha_0.5.csv'\u001b[0m\u001b[1;33m)\u001b[0m\u001b[1;33m,\u001b[0m \u001b[0mindex\u001b[0m\u001b[1;33m=\u001b[0m\u001b[0mFalse\u001b[0m\u001b[1;33m,\u001b[0m \u001b[0mquoting\u001b[0m\u001b[1;33m=\u001b[0m\u001b[1;36m3\u001b[0m\u001b[1;33m)\u001b[0m\u001b[1;33m\u001b[0m\u001b[0m\n\u001b[0m\u001b[0;32m     27\u001b[0m \u001b[1;32mprint\u001b[0m \u001b[1;33m(\u001b[0m\u001b[1;34m\"Wrote results to results/pred.proba.multNB.alpha_0.5.csv\"\u001b[0m\u001b[1;33m)\u001b[0m\u001b[1;33m\u001b[0m\u001b[0m\n\u001b[0;32m     28\u001b[0m \u001b[1;33m\u001b[0m\u001b[0m\n",
        "\u001b[1;31mNameError\u001b[0m: name '__file__' is not defined"
       ]
      }
     ],
     "prompt_number": 13
    },
    {
     "cell_type": "markdown",
     "metadata": {},
     "source": [
      "## 4. Extensive Grid Search"
     ]
    },
    {
     "cell_type": "code",
     "collapsed": false,
     "input": [
      "clf_pipe.get_params()"
     ],
     "language": "python",
     "metadata": {},
     "outputs": [
      {
       "metadata": {},
       "output_type": "pyout",
       "prompt_number": 17,
       "text": [
        "{'clf': MultinomialNB(alpha=0.5, class_prior=None, fit_prior=True),\n",
        " 'clf__alpha': 0.5,\n",
        " 'clf__class_prior': None,\n",
        " 'clf__fit_prior': True,\n",
        " 'vect': TfidfVectorizer(analyzer='word', binary=False, charset=None,\n",
        "         charset_error=None, decode_error='replace',\n",
        "         dtype=<type 'numpy.int64'>, encoding='utf-8', input=u'content',\n",
        "         lowercase=True, max_df=0.5, max_features=None, min_df=1,\n",
        "         ngram_range=(1, 1), norm=u'l2', preprocessor=None, smooth_idf=True,\n",
        "         stop_words=None, strip_accents='ascii', sublinear_tf=True,\n",
        "         token_pattern=u'(?u)\\\\b\\\\w\\\\w+\\\\b',\n",
        "         tokenizer=<function get_tokens at 0xa18bed8>, use_idf=True,\n",
        "         vocabulary=None),\n",
        " 'vect__analyzer': 'word',\n",
        " 'vect__binary': False,\n",
        " 'vect__charset': None,\n",
        " 'vect__charset_error': None,\n",
        " 'vect__decode_error': 'replace',\n",
        " 'vect__dtype': numpy.int64,\n",
        " 'vect__encoding': 'utf-8',\n",
        " 'vect__input': u'content',\n",
        " 'vect__lowercase': True,\n",
        " 'vect__max_df': 0.5,\n",
        " 'vect__max_features': None,\n",
        " 'vect__min_df': 1,\n",
        " 'vect__ngram_range': (1, 1),\n",
        " 'vect__norm': u'l2',\n",
        " 'vect__preprocessor': None,\n",
        " 'vect__smooth_idf': True,\n",
        " 'vect__stop_words': None,\n",
        " 'vect__strip_accents': 'ascii',\n",
        " 'vect__sublinear_tf': True,\n",
        " 'vect__token_pattern': u'(?u)\\\\b\\\\w\\\\w+\\\\b',\n",
        " 'vect__tokenizer': <function __main__.get_tokens>,\n",
        " 'vect__use_idf': True,\n",
        " 'vect__vocabulary': None}"
       ]
      }
     ],
     "prompt_number": 17
    },
    {
     "cell_type": "code",
     "collapsed": false,
     "input": [
      "tfidf = sklearn.feature_extraction.text.TfidfVectorizer(\n",
      "    encoding = 'utf-8',\n",
      "    decode_error = 'replace',\n",
      "    strip_accents = 'ascii',\n",
      "    analyzer = 'word',\n",
      "    smooth_idf = True,\n",
      "    tokenizer = get_tokens\n",
      ")\n",
      "\n",
      "param_grid = {\n",
      "    'vect__max_df':[0.2, 0.4, 0.5, 0.6, 0.8],\n",
      "    'vect__sublinear_tf':[True, False],\n",
      "    'vect__max_features':[5, 10, 20, 40],\n",
      "    'vect__ngram_range':[(1,1), (1,2)],\n",
      "    'clf__alpha':[0.1, 0.2, 0.5, 1.0, 2.0, 10.0]\n",
      "}\n",
      "\n",
      "clf_pipe = pipeline.Pipeline([\n",
      "        ('vect', tfidf),\n",
      "        ('clf', MultinomialNB())\n",
      "])\n",
      "\n",
      "auc_scorer = metrics.make_scorer(metrics.roc_auc_score, greater_is_better=True)\n",
      "\n",
      "grs = grid_search.GridSearchCV(clf_pipe, \n",
      "                  param_grid, \n",
      "                  n_jobs=1, \n",
      "                  verbose=1,\n",
      "                  scoring=auc_scorer,\n",
      "                  cv=5\n",
      ")\n",
      "\n",
      "\n",
      "gc.collect()\n"
     ],
     "language": "python",
     "metadata": {},
     "outputs": [
      {
       "metadata": {},
       "output_type": "pyout",
       "prompt_number": 30,
       "text": [
        "14"
       ]
      }
     ],
     "prompt_number": 30
    },
    {
     "cell_type": "code",
     "collapsed": false,
     "input": [
      "grs.fit(data_train, y_train)"
     ],
     "language": "python",
     "metadata": {},
     "outputs": []
    },
    {
     "cell_type": "code",
     "collapsed": false,
     "input": [
      "print(\"Best AUC score: %0.3f\" % grs.best_score_)\n",
      "print(\"Best parameter set:\")\n",
      "best_param = grs.best_estimator_.get_params()\n",
      "for param_name in sorted(param_grid.keys()):\n",
      "    print(\"\\t%s: %r\" % (param_name, best_param[param_name]))"
     ],
     "language": "python",
     "metadata": {},
     "outputs": []
    }
   ],
   "metadata": {}
  }
 ]
}