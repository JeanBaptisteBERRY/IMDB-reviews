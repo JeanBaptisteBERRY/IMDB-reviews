{
 "metadata": {
  "name": "",
  "signature": "sha256:cf8e1fad156803e6327646360e39441f78c03a38cecfaa94a7338577fdb6a8de"
 },
 "nbformat": 3,
 "nbformat_minor": 0,
 "worksheets": [
  {
   "cells": [
    {
     "cell_type": "code",
     "collapsed": false,
     "input": [
      "%load_ext watermark\n",
      "\n",
      "%watermark -a 'Vahid Mirjalili' -d -p scikit-learn,numpy,numexpr,pandas,matplotlib,plotly -v"
     ],
     "language": "python",
     "metadata": {},
     "outputs": [
      {
       "output_type": "stream",
       "stream": "stdout",
       "text": [
        "Vahid Mirjalili 14/12/2014 \n",
        "\n",
        "CPython 2.7.3\n",
        "IPython 2.3.1\n",
        "\n",
        "scikit-learn 0.15.2\n",
        "numpy 1.9.1\n",
        "numexpr 2.2.2\n",
        "pandas 0.15.1\n",
        "matplotlib 1.4.2\n",
        "plotly 1.4.7\n"
       ]
      }
     ],
     "prompt_number": 1
    },
    {
     "cell_type": "code",
     "collapsed": false,
     "input": [
      "from matplotlib import pyplot as plt\n",
      "\n",
      "import pandas as pd\n",
      "import numpy as np\n",
      "import scipy\n",
      "import sklearn\n",
      "\n",
      "%matplotlib inline"
     ],
     "language": "python",
     "metadata": {},
     "outputs": [],
     "prompt_number": 2
    },
    {
     "cell_type": "markdown",
     "metadata": {},
     "source": [
      "### Read-in the training dataset"
     ]
    },
    {
     "cell_type": "code",
     "collapsed": false,
     "input": [
      "df = pd.read_table('../data/labeledTrainData.tsv')\n",
      "\n",
      "df.head()"
     ],
     "language": "python",
     "metadata": {},
     "outputs": [
      {
       "html": [
        "<div style=\"max-height:1000px;max-width:1500px;overflow:auto;\">\n",
        "<table border=\"1\" class=\"dataframe\">\n",
        "  <thead>\n",
        "    <tr style=\"text-align: right;\">\n",
        "      <th></th>\n",
        "      <th>id</th>\n",
        "      <th>sentiment</th>\n",
        "      <th>review</th>\n",
        "    </tr>\n",
        "  </thead>\n",
        "  <tbody>\n",
        "    <tr>\n",
        "      <th>0</th>\n",
        "      <td> 5814_8</td>\n",
        "      <td> 1</td>\n",
        "      <td> With all this stuff going down at the moment w...</td>\n",
        "    </tr>\n",
        "    <tr>\n",
        "      <th>1</th>\n",
        "      <td> 2381_9</td>\n",
        "      <td> 1</td>\n",
        "      <td> \\The Classic War of the Worlds\\\" by Timothy Hi...</td>\n",
        "    </tr>\n",
        "    <tr>\n",
        "      <th>2</th>\n",
        "      <td> 7759_3</td>\n",
        "      <td> 0</td>\n",
        "      <td> The film starts with a manager (Nicholas Bell)...</td>\n",
        "    </tr>\n",
        "    <tr>\n",
        "      <th>3</th>\n",
        "      <td> 3630_4</td>\n",
        "      <td> 0</td>\n",
        "      <td> It must be assumed that those who praised this...</td>\n",
        "    </tr>\n",
        "    <tr>\n",
        "      <th>4</th>\n",
        "      <td> 9495_8</td>\n",
        "      <td> 1</td>\n",
        "      <td> Superbly trashy and wondrously unpretentious 8...</td>\n",
        "    </tr>\n",
        "  </tbody>\n",
        "</table>\n",
        "</div>"
       ],
       "metadata": {},
       "output_type": "pyout",
       "prompt_number": 3,
       "text": [
        "       id  sentiment                                             review\n",
        "0  5814_8          1  With all this stuff going down at the moment w...\n",
        "1  2381_9          1  \\The Classic War of the Worlds\\\" by Timothy Hi...\n",
        "2  7759_3          0  The film starts with a manager (Nicholas Bell)...\n",
        "3  3630_4          0  It must be assumed that those who praised this...\n",
        "4  9495_8          1  Superbly trashy and wondrously unpretentious 8..."
       ]
      }
     ],
     "prompt_number": 3
    },
    {
     "cell_type": "markdown",
     "metadata": {},
     "source": [
      "### Extracting X & y data columns"
     ]
    },
    {
     "cell_type": "code",
     "collapsed": false,
     "input": [
      "X_train = df.loc[:, 'review']\n",
      "\n",
      "y_train = df.loc[:, 'sentiment']\n",
      "\n",
      "X_train.head()"
     ],
     "language": "python",
     "metadata": {},
     "outputs": [
      {
       "metadata": {},
       "output_type": "pyout",
       "prompt_number": 11,
       "text": [
        "0    With all this stuff going down at the moment w...\n",
        "1    \\The Classic War of the Worlds\\\" by Timothy Hi...\n",
        "2    The film starts with a manager (Nicholas Bell)...\n",
        "3    It must be assumed that those who praised this...\n",
        "4    Superbly trashy and wondrously unpretentious 8...\n",
        "Name: review, dtype: object"
       ]
      }
     ],
     "prompt_number": 11
    },
    {
     "cell_type": "code",
     "collapsed": false,
     "input": [
      "import nltk\n",
      "import string\n",
      "from collections import Counter\n",
      "\n",
      "from nltk.corpus import stopwords"
     ],
     "language": "python",
     "metadata": {},
     "outputs": [],
     "prompt_number": 4
    },
    {
     "cell_type": "markdown",
     "metadata": {},
     "source": [
      " **Transform to lower-case**  \n",
      " **Remove the punctuations**  \n",
      " **Remove the stopwrods**  \n",
      " **Tokenize the remaining string**  "
     ]
    },
    {
     "cell_type": "code",
     "collapsed": false,
     "input": [
      "## For more info, see http://www.cs.duke.edu/courses/spring14/compsci290/assignments/lab02.html\n",
      "\n",
      "stemmer = nltk.stem.porter.PorterStemmer()\n",
      "\n",
      "def get_tokens(inp_txt):\n",
      "    \n",
      "    ## Lower case: ABC -> abc\n",
      "    txt_lower = inp_txt.lower()\n",
      "  \n",
      "    ## Remove punctuations (!, ', \", ., :, ;, )\n",
      "    txt_lower_nopunct = txt_lower.translate(None, string.punctuation)\n",
      "    \n",
      "    ## Tokenize:\n",
      "    tokens = nltk.word_tokenize(txt_lower_nopunct)\n",
      "    \n",
      "    ## remove stop-words:\n",
      "    tokens_filtered = [w for w in tokens if not w in stopwords.words('english')]\n",
      "    \n",
      "    ## stemming:\n",
      "    stems = [stemmer.stem(t) for t in tokens_filtered]\n",
      "    return (stems)\n",
      "\n",
      "### test:\n",
      "get_tokens(\"What's in a name? That which we call a rose by any other name would smell as sweet.\")\n",
      "\n",
      "## Note: you need to download punkt package in nltk:\n",
      "# import nltk\n",
      "# nltk.download(punkt)"
     ],
     "language": "python",
     "metadata": {},
     "outputs": [
      {
       "metadata": {},
       "output_type": "pyout",
       "prompt_number": 5,
       "text": [
        "[u'what', u'name', u'call', u'rose', u'name', u'would', u'smell', u'sweet']"
       ]
      }
     ],
     "prompt_number": 5
    },
    {
     "cell_type": "markdown",
     "metadata": {},
     "source": [
      "### TF-IDF Features"
     ]
    },
    {
     "cell_type": "code",
     "collapsed": false,
     "input": [
      "tfidf = sklearn.feature_extraction.text.TfidfVectorizer(\n",
      "    encoding = 'utf-8',\n",
      "    decode_error = 'replace',\n",
      "    strip_accents = 'ascii',\n",
      "    analyzer = 'word',\n",
      "    use_idf = True,\n",
      "    smooth_idf = True,\n",
      "    tokenizer = get_tokens\n",
      ")"
     ],
     "language": "python",
     "metadata": {},
     "outputs": [],
     "prompt_number": 7
    },
    {
     "cell_type": "markdown",
     "metadata": {},
     "source": [
      "### Fitting TF-IDF to the reviews"
     ]
    },
    {
     "cell_type": "code",
     "collapsed": false,
     "input": [],
     "language": "python",
     "metadata": {},
     "outputs": [
      {
       "metadata": {},
       "output_type": "pyout",
       "prompt_number": 10,
       "text": [
        "0    With all this stuff going down at the moment w...\n",
        "1    \\The Classic War of the Worlds\\\" by Timothy Hi...\n",
        "2    The film starts with a manager (Nicholas Bell)...\n",
        "3    It must be assumed that those who praised this...\n",
        "4    Superbly trashy and wondrously unpretentious 8...\n",
        "Name: review, dtype: object"
       ]
      }
     ],
     "prompt_number": 10
    },
    {
     "cell_type": "code",
     "collapsed": false,
     "input": [],
     "language": "python",
     "metadata": {},
     "outputs": []
    }
   ],
   "metadata": {}
  }
 ]
}